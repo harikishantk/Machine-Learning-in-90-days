{
  "nbformat": 4,
  "nbformat_minor": 0,
  "metadata": {
    "kernelspec": {
      "display_name": "Python 3",
      "language": "python",
      "name": "python3"
    },
    "language_info": {
      "codemirror_mode": {
        "name": "ipython",
        "version": 3
      },
      "file_extension": ".py",
      "mimetype": "text/x-python",
      "name": "python",
      "nbconvert_exporter": "python",
      "pygments_lexer": "ipython3",
      "version": "3.6.7"
    },
    "colab": {
      "name": "2-Python List,Dictionary,Sets etc.ipynb",
      "provenance": []
    }
  },
  "cells": [
    {
      "cell_type": "markdown",
      "metadata": {
        "id": "lSqzhH8LYq8w"
      },
      "source": [
        "## Python Data Structures and Boolean \n",
        "\n",
        "- Boolean\n",
        "- Boolean and Logical Operators\n",
        "- Lists\n",
        "- Comparison operators\n",
        "- Dictionaries\n",
        "- Tuples\n",
        "- Sets\n"
      ]
    },
    {
      "cell_type": "markdown",
      "metadata": {
        "id": "Dk1MwR58Yq83"
      },
      "source": [
        "### Boolean Variables\n",
        "\n",
        "Boolean values are the two constant objects False and True. \n",
        "\n",
        "They are used to represent truth values (other values can also be considered\n",
        "false or true). \n",
        "\n",
        "In numeric contexts (for example, when used as the argument to an\n",
        "arithmetic operator), they behave like the integers 0 and 1, respectively.\n",
        "\n",
        "The built-in function bool() can be used to cast any value to a Boolean,\n",
        "if the value can be interpreted as a truth value\n",
        "\n",
        "They are written as False and True, respectively.\n",
        "\n"
      ]
    },
    {
      "cell_type": "code",
      "metadata": {
        "id": "-NnEpuSPYq85",
        "outputId": "5e92be08-caae-4d9d-c417-e96d5bbf798f",
        "colab": {
          "base_uri": "https://localhost:8080/",
          "height": 35
        }
      },
      "source": [
        "False"
      ],
      "execution_count": 1,
      "outputs": [
        {
          "output_type": "execute_result",
          "data": {
            "text/plain": [
              "False"
            ]
          },
          "metadata": {
            "tags": []
          },
          "execution_count": 1
        }
      ]
    },
    {
      "cell_type": "code",
      "metadata": {
        "id": "AoEG3bqiYq9E",
        "outputId": "13624d8e-563c-485e-9c2b-eade452bda2e"
      },
      "source": [
        "print(True,False)"
      ],
      "execution_count": null,
      "outputs": [
        {
          "output_type": "stream",
          "text": [
            "True False\n"
          ],
          "name": "stdout"
        }
      ]
    },
    {
      "cell_type": "code",
      "metadata": {
        "id": "gNWJorr1Yq9K",
        "outputId": "3235890d-30a1-4530-a6bd-dc84b19f4fe1"
      },
      "source": [
        "type(True)"
      ],
      "execution_count": null,
      "outputs": [
        {
          "output_type": "execute_result",
          "data": {
            "text/plain": [
              "bool"
            ]
          },
          "metadata": {
            "tags": []
          },
          "execution_count": 4
        }
      ]
    },
    {
      "cell_type": "code",
      "metadata": {
        "id": "PV3izicQYq9Q",
        "outputId": "fe4021f8-648d-4948-c7b9-2dd49361de51"
      },
      "source": [
        "type(False)"
      ],
      "execution_count": null,
      "outputs": [
        {
          "output_type": "execute_result",
          "data": {
            "text/plain": [
              "bool"
            ]
          },
          "metadata": {
            "tags": []
          },
          "execution_count": 5
        }
      ]
    },
    {
      "cell_type": "code",
      "metadata": {
        "id": "4jEuUnPeYq9V"
      },
      "source": [
        "my_str='Krish123'"
      ],
      "execution_count": null,
      "outputs": []
    },
    {
      "cell_type": "code",
      "metadata": {
        "id": "yhPj_xI0Yq9b",
        "outputId": "ba12ab30-6aa7-429b-c954-a6f857c74b52"
      },
      "source": [
        "my_str.istitle()"
      ],
      "execution_count": null,
      "outputs": [
        {
          "output_type": "execute_result",
          "data": {
            "text/plain": [
              "True"
            ]
          },
          "metadata": {
            "tags": []
          },
          "execution_count": 10
        }
      ]
    },
    {
      "cell_type": "code",
      "metadata": {
        "id": "1Gjj4WBTYq9h",
        "outputId": "bbdb872e-96f0-4703-e08e-6de66725808f"
      },
      "source": [
        "print(my_str.isalnum()) #check if all char are numbers\n",
        "print(my_str.isalpha()) #check if all char in the string are alphabetic\n",
        "print(my_str.isdigit()) #test if string contains digits\n",
        "print(my_str.istitle()) #test if string contains title words\n",
        "print(my_str.isupper()) #test if string contains upper case\n",
        "print(my_str.islower()) #test if string contains lower case\n",
        "print(my_str.isspace()) #test if string contains spaces\n",
        "print(my_str.endswith('k')) #test if string endswith a d\n",
        "print(my_str.startswith('K')) #test if string startswith H"
      ],
      "execution_count": null,
      "outputs": [
        {
          "output_type": "stream",
          "text": [
            "True\n",
            "False\n",
            "False\n",
            "True\n",
            "False\n",
            "False\n",
            "False\n",
            "False\n",
            "True\n"
          ],
          "name": "stdout"
        }
      ]
    },
    {
      "cell_type": "markdown",
      "metadata": {
        "id": "tubeHXT5Yq9l"
      },
      "source": [
        "### Boolean and Logical Operators"
      ]
    },
    {
      "cell_type": "code",
      "metadata": {
        "id": "McsDBmB2Yq9m",
        "outputId": "59b899e4-6044-4520-b888-d2b966bea5d1"
      },
      "source": [
        "True and True"
      ],
      "execution_count": null,
      "outputs": [
        {
          "output_type": "execute_result",
          "data": {
            "text/plain": [
              "True"
            ]
          },
          "metadata": {
            "tags": []
          },
          "execution_count": 10
        }
      ]
    },
    {
      "cell_type": "code",
      "metadata": {
        "id": "j22ctSB4Yq9s",
        "outputId": "9dd58dff-39bc-4fb4-d25e-d102eb10b166"
      },
      "source": [
        "True and False"
      ],
      "execution_count": null,
      "outputs": [
        {
          "output_type": "execute_result",
          "data": {
            "text/plain": [
              "False"
            ]
          },
          "metadata": {
            "tags": []
          },
          "execution_count": 11
        }
      ]
    },
    {
      "cell_type": "code",
      "metadata": {
        "id": "VLHapxjhYq95",
        "outputId": "ea61ca6a-af02-49a9-e1ac-203000c230ee"
      },
      "source": [
        "True or False"
      ],
      "execution_count": null,
      "outputs": [
        {
          "output_type": "execute_result",
          "data": {
            "text/plain": [
              "True"
            ]
          },
          "metadata": {
            "tags": []
          },
          "execution_count": 12
        }
      ]
    },
    {
      "cell_type": "code",
      "metadata": {
        "id": "qRjCO4dzYq9-",
        "outputId": "e1d88e5b-f7dd-4164-fa78-fa166ca0de24"
      },
      "source": [
        "True or True"
      ],
      "execution_count": null,
      "outputs": [
        {
          "output_type": "execute_result",
          "data": {
            "text/plain": [
              "True"
            ]
          },
          "metadata": {
            "tags": []
          },
          "execution_count": 13
        }
      ]
    },
    {
      "cell_type": "code",
      "metadata": {
        "id": "BYvRYArEYq-D"
      },
      "source": [
        "str_example='Hello World'\n",
        "my_str='Krish'"
      ],
      "execution_count": null,
      "outputs": []
    },
    {
      "cell_type": "code",
      "metadata": {
        "id": "24IkhGboYq-I",
        "outputId": "bbd5d27b-0f6e-4b14-b114-e0d3a38c9ecb"
      },
      "source": [
        "my_str.isalpha() or str_example.isnum()"
      ],
      "execution_count": null,
      "outputs": [
        {
          "output_type": "execute_result",
          "data": {
            "text/plain": [
              "True"
            ]
          },
          "metadata": {
            "tags": []
          },
          "execution_count": 14
        }
      ]
    },
    {
      "cell_type": "markdown",
      "metadata": {
        "id": "FEH-_WCmYq-N"
      },
      "source": [
        "### Lists\n",
        "\n",
        "A list is a data structure in Python that is a mutable, or changeable, ordered sequence of elements. Each element or value that is inside of a list is called an item. Just as strings are defined as characters between quotes, lists are defined by having values between square brackets [ ] "
      ]
    },
    {
      "cell_type": "code",
      "metadata": {
        "id": "GpTKP6IGYq-O",
        "outputId": "c5e9dc4b-b8e1-4446-eb14-3ae6e90ef269",
        "colab": {
          "base_uri": "https://localhost:8080/",
          "height": 35
        }
      },
      "source": [
        "type([])"
      ],
      "execution_count": 2,
      "outputs": [
        {
          "output_type": "execute_result",
          "data": {
            "text/plain": [
              "list"
            ]
          },
          "metadata": {
            "tags": []
          },
          "execution_count": 2
        }
      ]
    },
    {
      "cell_type": "code",
      "metadata": {
        "id": "XB_UH2wrYq-T"
      },
      "source": [
        "lst_example=[]"
      ],
      "execution_count": 3,
      "outputs": []
    },
    {
      "cell_type": "code",
      "metadata": {
        "id": "4U9ccybCYq-Y",
        "outputId": "e324af7a-e0b9-465e-9a98-95b72ab92406",
        "colab": {
          "base_uri": "https://localhost:8080/",
          "height": 35
        }
      },
      "source": [
        "type(lst_example)"
      ],
      "execution_count": 4,
      "outputs": [
        {
          "output_type": "execute_result",
          "data": {
            "text/plain": [
              "list"
            ]
          },
          "metadata": {
            "tags": []
          },
          "execution_count": 4
        }
      ]
    },
    {
      "cell_type": "code",
      "metadata": {
        "id": "6RKQr4aWYq-b"
      },
      "source": [
        "lst=list()"
      ],
      "execution_count": 5,
      "outputs": []
    },
    {
      "cell_type": "code",
      "metadata": {
        "id": "JbH9ST0eYq-h",
        "outputId": "9528d1c8-34aa-4b01-cf61-48b5727cc903",
        "colab": {
          "base_uri": "https://localhost:8080/",
          "height": 35
        }
      },
      "source": [
        "type(lst)"
      ],
      "execution_count": 6,
      "outputs": [
        {
          "output_type": "execute_result",
          "data": {
            "text/plain": [
              "list"
            ]
          },
          "metadata": {
            "tags": []
          },
          "execution_count": 6
        }
      ]
    },
    {
      "cell_type": "code",
      "metadata": {
        "id": "r4hewFJXYq-k"
      },
      "source": [
        "lst=['Mathematics', 'chemistry', 100, 200, 300, 204]"
      ],
      "execution_count": 7,
      "outputs": []
    },
    {
      "cell_type": "code",
      "metadata": {
        "id": "h2IcFVvSYq-n",
        "outputId": "7619c0f2-477d-4328-fa96-ed98291ea6a6",
        "colab": {
          "base_uri": "https://localhost:8080/",
          "height": 35
        }
      },
      "source": [
        "len(lst)"
      ],
      "execution_count": 8,
      "outputs": [
        {
          "output_type": "execute_result",
          "data": {
            "text/plain": [
              "6"
            ]
          },
          "metadata": {
            "tags": []
          },
          "execution_count": 8
        }
      ]
    },
    {
      "cell_type": "markdown",
      "metadata": {
        "id": "tdVGQC_cYq-x"
      },
      "source": [
        "### Append"
      ]
    },
    {
      "cell_type": "code",
      "metadata": {
        "id": "rRtQ4KKBYq-x"
      },
      "source": [
        "#.append is used to add elements in the list\n",
        "lst.append(\"Krish\")"
      ],
      "execution_count": null,
      "outputs": []
    },
    {
      "cell_type": "code",
      "metadata": {
        "id": "7-TtD69LYq-0"
      },
      "source": [
        "lst.append([\"John\",\"Bala\"])"
      ],
      "execution_count": null,
      "outputs": []
    },
    {
      "cell_type": "code",
      "metadata": {
        "id": "5w7p4gVCYq-3",
        "outputId": "55addac3-1575-4381-e10f-92ae37e950a2"
      },
      "source": [
        "lst"
      ],
      "execution_count": null,
      "outputs": [
        {
          "output_type": "execute_result",
          "data": {
            "text/plain": [
              "['Mathematics', 'chemistry', 100, 200, 300, 204, 'Krish', ['John', 'Bala']]"
            ]
          },
          "metadata": {
            "tags": []
          },
          "execution_count": 28
        }
      ]
    },
    {
      "cell_type": "code",
      "metadata": {
        "id": "wJ0h6lx5Yq-6",
        "outputId": "dd0d43b8-582f-4583-9861-f36463f3e222"
      },
      "source": [
        "##Indexing in List\n",
        "lst[6]"
      ],
      "execution_count": null,
      "outputs": [
        {
          "output_type": "execute_result",
          "data": {
            "text/plain": [
              "'Krish'"
            ]
          },
          "metadata": {
            "tags": []
          },
          "execution_count": 23
        }
      ]
    },
    {
      "cell_type": "code",
      "metadata": {
        "id": "QO6jqtFSYq--",
        "outputId": "2d0bebe7-a968-46aa-9809-763e75126650"
      },
      "source": [
        "lst[1:6]"
      ],
      "execution_count": null,
      "outputs": [
        {
          "output_type": "execute_result",
          "data": {
            "text/plain": [
              "['chemistry', 100, 200, 300, 204]"
            ]
          },
          "metadata": {
            "tags": []
          },
          "execution_count": 26
        }
      ]
    },
    {
      "cell_type": "code",
      "metadata": {
        "id": "bRQIjR_wYq-s",
        "outputId": "658f83f0-0062-4b29-9188-04307bef6d9c",
        "colab": {
          "base_uri": "https://localhost:8080/",
          "height": 35
        }
      },
      "source": [
        "type(lst)"
      ],
      "execution_count": null,
      "outputs": [
        {
          "output_type": "execute_result",
          "data": {
            "text/plain": [
              "list"
            ]
          },
          "metadata": {
            "tags": []
          },
          "execution_count": 9
        }
      ]
    },
    {
      "cell_type": "markdown",
      "metadata": {
        "id": "PO91QWTxZYHl"
      },
      "source": [
        "Basic Construction of List.. in essence how to create an empty list:"
      ]
    },
    {
      "cell_type": "code",
      "metadata": {
        "id": "-4jiAMH0Zen8",
        "outputId": "57077ec1-0d13-40ca-c882-522cb23b9e8f",
        "colab": {
          "base_uri": "https://localhost:8080/",
          "height": 35
        }
      },
      "source": [
        "lst = [] #empty list\n",
        "type(lst)"
      ],
      "execution_count": 10,
      "outputs": [
        {
          "output_type": "execute_result",
          "data": {
            "text/plain": [
              "list"
            ]
          },
          "metadata": {
            "tags": []
          },
          "execution_count": 10
        }
      ]
    },
    {
      "cell_type": "markdown",
      "metadata": {
        "id": "h6yte2DbZsMl"
      },
      "source": [
        "Create a list from tuple:"
      ]
    },
    {
      "cell_type": "code",
      "metadata": {
        "id": "MOsRwvxLZm_8",
        "outputId": "bd1ea0e4-e234-400a-cd1c-aefc2bc64a8b",
        "colab": {
          "base_uri": "https://localhost:8080/",
          "height": 35
        }
      },
      "source": [
        "lst = list((2,3,4))\n",
        "lst"
      ],
      "execution_count": 11,
      "outputs": [
        {
          "output_type": "execute_result",
          "data": {
            "text/plain": [
              "[2, 3, 4]"
            ]
          },
          "metadata": {
            "tags": []
          },
          "execution_count": 11
        }
      ]
    },
    {
      "cell_type": "code",
      "metadata": {
        "id": "1uoiR5tmaDQ1",
        "outputId": "689b84b4-7238-4723-b930-49ef1c757379",
        "colab": {
          "base_uri": "https://localhost:8080/",
          "height": 35
        }
      },
      "source": [
        "lst = list('hello') \n",
        "lst #You're wrong if you thought lst = [\"hello\"]."
      ],
      "execution_count": 12,
      "outputs": [
        {
          "output_type": "execute_result",
          "data": {
            "text/plain": [
              "['h', 'e', 'l', 'l', 'o']"
            ]
          },
          "metadata": {
            "tags": []
          },
          "execution_count": 12
        }
      ]
    },
    {
      "cell_type": "code",
      "metadata": {
        "id": "d_9b8XOHacMs",
        "outputId": "e13a1d44-5e99-43e5-dac1-1718ebaa0ead",
        "colab": {
          "base_uri": "https://localhost:8080/",
          "height": 35
        }
      },
      "source": [
        "lst.append('hello')\n",
        "lst #Now 'hello' is appended to lst as str."
      ],
      "execution_count": 15,
      "outputs": [
        {
          "output_type": "execute_result",
          "data": {
            "text/plain": [
              "['h', 'e', 'l', 'l', 'o', 'hello']"
            ]
          },
          "metadata": {
            "tags": []
          },
          "execution_count": 15
        }
      ]
    },
    {
      "cell_type": "markdown",
      "metadata": {
        "id": "oES4AB7RYq_B"
      },
      "source": [
        "### Insert"
      ]
    },
    {
      "cell_type": "code",
      "metadata": {
        "id": "h_Srv5YIYq_C"
      },
      "source": [
        "## insert in a specific order\n",
        "\n",
        "lst.insert(2,\"Naik\")"
      ],
      "execution_count": null,
      "outputs": []
    },
    {
      "cell_type": "code",
      "metadata": {
        "id": "eAjyY7SSYq_F",
        "outputId": "916ab2e3-e510-4063-cecd-cd499d252052"
      },
      "source": [
        "lst"
      ],
      "execution_count": null,
      "outputs": [
        {
          "output_type": "execute_result",
          "data": {
            "text/plain": [
              "['Mathematics',\n",
              " 'chemistry',\n",
              " 'Naik',\n",
              " 100,\n",
              " 200,\n",
              " 300,\n",
              " 204,\n",
              " 'Krish',\n",
              " ['John', 'Bala']]"
            ]
          },
          "metadata": {
            "tags": []
          },
          "execution_count": 30
        }
      ]
    },
    {
      "cell_type": "code",
      "metadata": {
        "id": "JvHO4KJUYq_I"
      },
      "source": [
        "lst.append([\"Hello\",\"World\"])"
      ],
      "execution_count": null,
      "outputs": []
    },
    {
      "cell_type": "code",
      "metadata": {
        "id": "a-WvErd3Yq_K",
        "outputId": "57345891-011f-48da-aae8-0cc8e241d487"
      },
      "source": [
        "lst"
      ],
      "execution_count": null,
      "outputs": [
        {
          "output_type": "execute_result",
          "data": {
            "text/plain": [
              "['Mathematics',\n",
              " 'chemistry',\n",
              " 'Naik',\n",
              " 100,\n",
              " 200,\n",
              " 300,\n",
              " 204,\n",
              " 'Krish',\n",
              " ['John', 'Bala'],\n",
              " ['Hello', 'World']]"
            ]
          },
          "metadata": {
            "tags": []
          },
          "execution_count": 32
        }
      ]
    },
    {
      "cell_type": "code",
      "metadata": {
        "id": "aB97uy0MYq_P"
      },
      "source": [
        "lst=[1,2,3]"
      ],
      "execution_count": null,
      "outputs": []
    },
    {
      "cell_type": "code",
      "metadata": {
        "id": "gY_C0eYFYq_T"
      },
      "source": [
        "lst.append([4,5])"
      ],
      "execution_count": null,
      "outputs": []
    },
    {
      "cell_type": "code",
      "metadata": {
        "id": "jKO4d5XDYq_V",
        "outputId": "e1934a22-6f03-49c6-cba4-3796d59b294c"
      },
      "source": [
        "lst"
      ],
      "execution_count": null,
      "outputs": [
        {
          "output_type": "execute_result",
          "data": {
            "text/plain": [
              "[1, 2, 3, [4, 5]]"
            ]
          },
          "metadata": {
            "tags": []
          },
          "execution_count": 32
        }
      ]
    },
    {
      "cell_type": "markdown",
      "metadata": {
        "id": "1_7PuaSjYq_Y"
      },
      "source": [
        "### Extend Method"
      ]
    },
    {
      "cell_type": "code",
      "metadata": {
        "id": "E7ZZfzyuYq_Y"
      },
      "source": [
        "lst=[1,2,3,4,5,6]"
      ],
      "execution_count": null,
      "outputs": []
    },
    {
      "cell_type": "code",
      "metadata": {
        "id": "WCwb2ay-Yq_c"
      },
      "source": [
        "lst.extend([8,9])"
      ],
      "execution_count": null,
      "outputs": []
    },
    {
      "cell_type": "code",
      "metadata": {
        "id": "D6Tmd0PEYq_e",
        "outputId": "f7fe986a-824e-45ad-a5e8-66a385d2cc4f"
      },
      "source": [
        "lst"
      ],
      "execution_count": null,
      "outputs": [
        {
          "output_type": "execute_result",
          "data": {
            "text/plain": [
              "[1, 2, 3, 4, 5, 6, 8, 9]"
            ]
          },
          "metadata": {
            "tags": []
          },
          "execution_count": 35
        }
      ]
    },
    {
      "cell_type": "markdown",
      "metadata": {
        "id": "Unq-XPwkYq_h"
      },
      "source": [
        "### Various Operations that we can perform in List"
      ]
    },
    {
      "cell_type": "code",
      "metadata": {
        "id": "kzfcsNPtYq_h"
      },
      "source": [
        "lst=[1,2,3,4,5]"
      ],
      "execution_count": null,
      "outputs": []
    },
    {
      "cell_type": "code",
      "metadata": {
        "id": "WOnXme8pYq_j",
        "outputId": "b184eec0-1a58-45f0-8a82-2262ce37a790"
      },
      "source": [
        "sum(lst)"
      ],
      "execution_count": null,
      "outputs": [
        {
          "output_type": "execute_result",
          "data": {
            "text/plain": [
              "15"
            ]
          },
          "metadata": {
            "tags": []
          },
          "execution_count": 42
        }
      ]
    },
    {
      "cell_type": "code",
      "metadata": {
        "id": "YS5aCLkVYq_l",
        "outputId": "45366544-b5cf-4bd5-c258-d03d22b098b6"
      },
      "source": [
        "lst*5"
      ],
      "execution_count": null,
      "outputs": [
        {
          "output_type": "execute_result",
          "data": {
            "text/plain": [
              "[1, 2, 3, 4, 5, 1, 2, 3, 4, 5, 1, 2, 3, 4, 5, 1, 2, 3, 4, 5, 1, 2, 3, 4, 5]"
            ]
          },
          "metadata": {
            "tags": []
          },
          "execution_count": 48
        }
      ]
    },
    {
      "cell_type": "markdown",
      "metadata": {
        "id": "QCnR9wQEYq_o"
      },
      "source": [
        "### Pop() Method"
      ]
    },
    {
      "cell_type": "code",
      "metadata": {
        "id": "mzarUrUtYq_o",
        "outputId": "4bd944ae-5510-425a-98d1-79d0fc2477ba"
      },
      "source": [
        "lst.pop()"
      ],
      "execution_count": null,
      "outputs": [
        {
          "output_type": "execute_result",
          "data": {
            "text/plain": [
              "5"
            ]
          },
          "metadata": {
            "tags": []
          },
          "execution_count": 37
        }
      ]
    },
    {
      "cell_type": "code",
      "metadata": {
        "id": "oB78IPMMYq_q",
        "outputId": "76f0384e-8153-4c72-93b1-43561064d9f2"
      },
      "source": [
        "lst"
      ],
      "execution_count": null,
      "outputs": [
        {
          "output_type": "execute_result",
          "data": {
            "text/plain": [
              "[1, 2, 3, 4]"
            ]
          },
          "metadata": {
            "tags": []
          },
          "execution_count": 38
        }
      ]
    },
    {
      "cell_type": "code",
      "metadata": {
        "id": "yPyJU-qhYq_s",
        "outputId": "a15be3af-70b7-4dbc-e987-7f7d0f5cdaef"
      },
      "source": [
        "lst.pop(0)"
      ],
      "execution_count": null,
      "outputs": [
        {
          "output_type": "execute_result",
          "data": {
            "text/plain": [
              "1"
            ]
          },
          "metadata": {
            "tags": []
          },
          "execution_count": 39
        }
      ]
    },
    {
      "cell_type": "code",
      "metadata": {
        "id": "4tBLVTOxYq_v",
        "outputId": "c572f116-5ef7-4fd4-d71a-284e2e532c8f"
      },
      "source": [
        "lst"
      ],
      "execution_count": null,
      "outputs": [
        {
          "output_type": "execute_result",
          "data": {
            "text/plain": [
              "[2, 3, 4]"
            ]
          },
          "metadata": {
            "tags": []
          },
          "execution_count": 40
        }
      ]
    },
    {
      "cell_type": "markdown",
      "metadata": {
        "id": "cdYfmSjdYq_x"
      },
      "source": [
        "### count():Calculates total occurrence of given element of List"
      ]
    },
    {
      "cell_type": "code",
      "metadata": {
        "id": "njRY7bNMYq_x",
        "outputId": "98ffff10-ba56-480f-f701-ad8b03f9d100"
      },
      "source": [
        "lst=[1,1,2,3,4,5]\n",
        "lst.count(1)"
      ],
      "execution_count": null,
      "outputs": [
        {
          "output_type": "execute_result",
          "data": {
            "text/plain": [
              "2"
            ]
          },
          "metadata": {
            "tags": []
          },
          "execution_count": 41
        }
      ]
    },
    {
      "cell_type": "code",
      "metadata": {
        "id": "yNT-Y9kpYq_1",
        "outputId": "d7709d71-af04-47b3-ef0c-b445e9907ef6"
      },
      "source": [
        "#length:Calculates total length of List\n",
        "len(lst)"
      ],
      "execution_count": null,
      "outputs": [
        {
          "output_type": "execute_result",
          "data": {
            "text/plain": [
              "6"
            ]
          },
          "metadata": {
            "tags": []
          },
          "execution_count": 49
        }
      ]
    },
    {
      "cell_type": "code",
      "metadata": {
        "id": "ukpjLyAzYq_3",
        "outputId": "376b5a62-9ae7-426a-8a90-aaaacef075e4"
      },
      "source": [
        "# index(): Returns the index of first occurrence. Start and End index are not necessary parameters\n",
        "lst.index(1,1,4)"
      ],
      "execution_count": null,
      "outputs": [
        {
          "output_type": "execute_result",
          "data": {
            "text/plain": [
              "1"
            ]
          },
          "metadata": {
            "tags": []
          },
          "execution_count": 44
        }
      ]
    },
    {
      "cell_type": "code",
      "metadata": {
        "id": "T9vnU8iWYq_5",
        "outputId": "38f10297-256e-4160-867a-64d36207082c"
      },
      "source": [
        "##Min and Max\n",
        "min(lst)"
      ],
      "execution_count": null,
      "outputs": [
        {
          "output_type": "execute_result",
          "data": {
            "text/plain": [
              "1"
            ]
          },
          "metadata": {
            "tags": []
          },
          "execution_count": 45
        }
      ]
    },
    {
      "cell_type": "code",
      "metadata": {
        "id": "LnFycb_hYq_7",
        "outputId": "3f64d862-47b7-4501-d5ff-2328bc976c31"
      },
      "source": [
        "max(lst)"
      ],
      "execution_count": null,
      "outputs": [
        {
          "output_type": "execute_result",
          "data": {
            "text/plain": [
              "5"
            ]
          },
          "metadata": {
            "tags": []
          },
          "execution_count": 57
        }
      ]
    },
    {
      "cell_type": "markdown",
      "metadata": {
        "id": "LSIU3leKa33s"
      },
      "source": [
        "## List Comprehension "
      ]
    },
    {
      "cell_type": "markdown",
      "metadata": {
        "id": "zqcz8_ocbX1s"
      },
      "source": [
        "*Going beyond the basic construction, another common way to create a list object is to use list comprehension. This is a concise way to create list objects with the following syntax: **[expression for x in iterable]**.*"
      ]
    },
    {
      "cell_type": "code",
      "metadata": {
        "id": "3LnYq8bKbPcD",
        "outputId": "958d7a14-071a-42c4-aecb-6b0994ba1af0",
        "colab": {
          "base_uri": "https://localhost:8080/",
          "height": 35
        }
      },
      "source": [
        "letter_dict = {'a':0,'b':1,'c':2,'d':3}\n",
        "letter_dict "
      ],
      "execution_count": 16,
      "outputs": [
        {
          "output_type": "execute_result",
          "data": {
            "text/plain": [
              "{'a': 0, 'b': 1, 'c': 2, 'd': 3}"
            ]
          },
          "metadata": {
            "tags": []
          },
          "execution_count": 16
        }
      ]
    },
    {
      "cell_type": "markdown",
      "metadata": {
        "id": "wIHVj4-Ycp90"
      },
      "source": [
        "To append the keys using list comprehension using **dict** or **dict.keys()**"
      ]
    },
    {
      "cell_type": "code",
      "metadata": {
        "id": "b1k4ivTEceLC",
        "outputId": "a982a7bd-7aa2-46a8-f1a8-55b54d4b96d5",
        "colab": {
          "base_uri": "https://localhost:8080/",
          "height": 53
        }
      },
      "source": [
        "lst = [x for x in letter_dict]\n",
        "print(lst)\n",
        "lst = [x+'32' for x in letter_dict.keys()]\n",
        "print(lst)"
      ],
      "execution_count": 23,
      "outputs": [
        {
          "output_type": "stream",
          "text": [
            "['a', 'b', 'c', 'd']\n",
            "['a32', 'b32', 'c32', 'd32']\n"
          ],
          "name": "stdout"
        }
      ]
    },
    {
      "cell_type": "markdown",
      "metadata": {
        "id": "iZ2L4abYczm7"
      },
      "source": [
        "To append the values using list comprehension using **dict.values()**."
      ]
    },
    {
      "cell_type": "code",
      "metadata": {
        "id": "AXVnkMtCc92z",
        "outputId": "7e60f462-b619-46d7-892e-d50bf38b8401",
        "colab": {
          "base_uri": "https://localhost:8080/",
          "height": 35
        }
      },
      "source": [
        "lst = [x for x in letter_dict.values()]\n",
        "lst"
      ],
      "execution_count": 18,
      "outputs": [
        {
          "output_type": "execute_result",
          "data": {
            "text/plain": [
              "[0, 1, 2, 3]"
            ]
          },
          "metadata": {
            "tags": []
          },
          "execution_count": 18
        }
      ]
    },
    {
      "cell_type": "markdown",
      "metadata": {
        "id": "sVgAo3yIdODs"
      },
      "source": [
        "To append (key,value) pair from dictionary using dict.**items()**."
      ]
    },
    {
      "cell_type": "code",
      "metadata": {
        "id": "zKjAjuhAdGf1",
        "outputId": "c4b318ab-1528-461c-9bfe-d3619de262a4",
        "colab": {
          "base_uri": "https://localhost:8080/",
          "height": 35
        }
      },
      "source": [
        "lst = [x for x in letter_dict.items()]\n",
        "lst"
      ],
      "execution_count": 19,
      "outputs": [
        {
          "output_type": "execute_result",
          "data": {
            "text/plain": [
              "[('a', 0), ('b', 1), ('c', 2), ('d', 3)]"
            ]
          },
          "metadata": {
            "tags": []
          },
          "execution_count": 19
        }
      ]
    },
    {
      "cell_type": "markdown",
      "metadata": {
        "id": "88QYaUrXpiuy"
      },
      "source": [
        "##Indexing and Slicing"
      ]
    },
    {
      "cell_type": "markdown",
      "metadata": {
        "id": "3sgabt5wpmYI"
      },
      "source": [
        "###Indexing "
      ]
    },
    {
      "cell_type": "code",
      "metadata": {
        "id": "ZVO71egcpr3J",
        "outputId": "07e46edc-0b4e-44d5-ac97-733212d26d14",
        "colab": {
          "base_uri": "https://localhost:8080/",
          "height": 35
        }
      },
      "source": [
        "lst = [x for x in range(10)]\n",
        "lst  "
      ],
      "execution_count": 24,
      "outputs": [
        {
          "output_type": "execute_result",
          "data": {
            "text/plain": [
              "[0, 1, 2, 3, 4, 5, 6, 7, 8, 9]"
            ]
          },
          "metadata": {
            "tags": []
          },
          "execution_count": 24
        }
      ]
    },
    {
      "cell_type": "code",
      "metadata": {
        "id": "HHsILgWIp7EA",
        "outputId": "6cc32083-fb57-4295-b2be-49ebbcf544c9",
        "colab": {
          "base_uri": "https://localhost:8080/",
          "height": 35
        }
      },
      "source": [
        "lst[0]"
      ],
      "execution_count": 25,
      "outputs": [
        {
          "output_type": "execute_result",
          "data": {
            "text/plain": [
              "0"
            ]
          },
          "metadata": {
            "tags": []
          },
          "execution_count": 25
        }
      ]
    },
    {
      "cell_type": "code",
      "metadata": {
        "id": "YBDalTxtqAqJ",
        "outputId": "1bfa441a-7913-465c-cc81-ca1a02dccc16",
        "colab": {
          "base_uri": "https://localhost:8080/",
          "height": 35
        }
      },
      "source": [
        "lst[9]"
      ],
      "execution_count": 26,
      "outputs": [
        {
          "output_type": "execute_result",
          "data": {
            "text/plain": [
              "9"
            ]
          },
          "metadata": {
            "tags": []
          },
          "execution_count": 26
        }
      ]
    },
    {
      "cell_type": "markdown",
      "metadata": {
        "id": "xunkX9N4rpkf"
      },
      "source": [
        "To get the last element of list, we can use **lst[len(lst)-1]** or **lst[-1](negative slicing)**"
      ]
    },
    {
      "cell_type": "code",
      "metadata": {
        "id": "YBZt9-AXrbiH",
        "outputId": "5cc090db-8352-45f3-910c-aaff631e7c19",
        "colab": {
          "base_uri": "https://localhost:8080/",
          "height": 53
        }
      },
      "source": [
        "print(lst[len(lst)-1])\n",
        "print(lst[-1])"
      ],
      "execution_count": 40,
      "outputs": [
        {
          "output_type": "stream",
          "text": [
            "9\n",
            "9\n"
          ],
          "name": "stdout"
        }
      ]
    },
    {
      "cell_type": "code",
      "metadata": {
        "id": "Zv6lTTGYsCSm",
        "outputId": "9f57194f-0b53-41ce-bb2a-e67912fd4973",
        "colab": {
          "base_uri": "https://localhost:8080/",
          "height": 35
        }
      },
      "source": [
        "lst[-2] #and goes on..."
      ],
      "execution_count": 41,
      "outputs": [
        {
          "output_type": "execute_result",
          "data": {
            "text/plain": [
              "8"
            ]
          },
          "metadata": {
            "tags": []
          },
          "execution_count": 41
        }
      ]
    },
    {
      "cell_type": "markdown",
      "metadata": {
        "id": "_dF_g62XqIIP"
      },
      "source": [
        "###Slicing"
      ]
    },
    {
      "cell_type": "code",
      "metadata": {
        "id": "T_6KS7DmqHlA",
        "outputId": "47eeb762-4840-42a8-e44c-c7e01415fba5",
        "colab": {
          "base_uri": "https://localhost:8080/",
          "height": 35
        }
      },
      "source": [
        "lst"
      ],
      "execution_count": 28,
      "outputs": [
        {
          "output_type": "execute_result",
          "data": {
            "text/plain": [
              "[0, 1, 2, 3, 4, 5, 6, 7, 8, 9]"
            ]
          },
          "metadata": {
            "tags": []
          },
          "execution_count": 28
        }
      ]
    },
    {
      "cell_type": "code",
      "metadata": {
        "id": "zg3jZrZXqTfn",
        "outputId": "6fa98321-2ff4-4f5a-c1f7-b931848d508d",
        "colab": {
          "base_uri": "https://localhost:8080/",
          "height": 35
        }
      },
      "source": [
        "lst[1:5] #Print the elements which are in list[start:end-1] "
      ],
      "execution_count": 31,
      "outputs": [
        {
          "output_type": "execute_result",
          "data": {
            "text/plain": [
              "[1, 2, 3, 4]"
            ]
          },
          "metadata": {
            "tags": []
          },
          "execution_count": 31
        }
      ]
    },
    {
      "cell_type": "code",
      "metadata": {
        "id": "Eesl354wqmTW",
        "outputId": "719d093d-66f5-49dd-b84a-0c3d66b0cbf6",
        "colab": {
          "base_uri": "https://localhost:8080/",
          "height": 35
        }
      },
      "source": [
        "lst[0:7:2] #Print the elements which are in list[start:end-1:step]"
      ],
      "execution_count": 33,
      "outputs": [
        {
          "output_type": "execute_result",
          "data": {
            "text/plain": [
              "[0, 2, 4, 6]"
            ]
          },
          "metadata": {
            "tags": []
          },
          "execution_count": 33
        }
      ]
    },
    {
      "cell_type": "code",
      "metadata": {
        "id": "fVkJtNP8qy9n",
        "outputId": "728e5b3a-3043-4163-f806-f5c0b378986b",
        "colab": {
          "base_uri": "https://localhost:8080/",
          "height": 35
        }
      },
      "source": [
        "lst[::-1] #Print the elements in reverse order"
      ],
      "execution_count": 34,
      "outputs": [
        {
          "output_type": "execute_result",
          "data": {
            "text/plain": [
              "[9, 8, 7, 6, 5, 4, 3, 2, 1, 0]"
            ]
          },
          "metadata": {
            "tags": []
          },
          "execution_count": 34
        }
      ]
    },
    {
      "cell_type": "code",
      "metadata": {
        "id": "yUcoaLD6rCCf",
        "outputId": "bfde7073-fc5e-4f85-f7ca-1ce331e6e362",
        "colab": {
          "base_uri": "https://localhost:8080/",
          "height": 35
        }
      },
      "source": [
        "lst[3:-3] #Print the elements in starting incl. of 3rd index and exclusive of -3 index i.e., 7th index "
      ],
      "execution_count": 38,
      "outputs": [
        {
          "output_type": "execute_result",
          "data": {
            "text/plain": [
              "[3, 4, 5, 6]"
            ]
          },
          "metadata": {
            "tags": []
          },
          "execution_count": 38
        }
      ]
    },
    {
      "cell_type": "markdown",
      "metadata": {
        "id": "uUQ50yposvFo"
      },
      "source": [
        "## Sorting"
      ]
    },
    {
      "cell_type": "code",
      "metadata": {
        "id": "GZaQ0nojs20v",
        "outputId": "da2f170b-870a-493a-8503-ecc5adaba39d",
        "colab": {
          "base_uri": "https://localhost:8080/",
          "height": 35
        }
      },
      "source": [
        "import random\n",
        "lst = [random.randrange(1,50,1) for i in range(9)]\n",
        "lst"
      ],
      "execution_count": 45,
      "outputs": [
        {
          "output_type": "execute_result",
          "data": {
            "text/plain": [
              "[21, 28, 42, 16, 13, 44, 6, 27, 38]"
            ]
          },
          "metadata": {
            "tags": []
          },
          "execution_count": 45
        }
      ]
    },
    {
      "cell_type": "code",
      "metadata": {
        "id": "dYcETj4sxcNN",
        "outputId": "6ceec8ad-00e5-42ed-8175-a248c4dc1b4b",
        "colab": {
          "base_uri": "https://localhost:8080/",
          "height": 35
        }
      },
      "source": [
        "lst.sort() #non-reverse sort or ascending order\n",
        "lst"
      ],
      "execution_count": 47,
      "outputs": [
        {
          "output_type": "execute_result",
          "data": {
            "text/plain": [
              "[6, 13, 16, 21, 27, 28, 38, 42, 44]"
            ]
          },
          "metadata": {
            "tags": []
          },
          "execution_count": 47
        }
      ]
    },
    {
      "cell_type": "code",
      "metadata": {
        "id": "TP9tzLFqxkcb",
        "outputId": "6282763d-6e25-4cbe-ed2b-47f50991430c",
        "colab": {
          "base_uri": "https://localhost:8080/",
          "height": 35
        }
      },
      "source": [
        "lst.sort(reverse=True) #reverse sort or descending order\n",
        "lst"
      ],
      "execution_count": 48,
      "outputs": [
        {
          "output_type": "execute_result",
          "data": {
            "text/plain": [
              "[44, 42, 38, 28, 27, 21, 16, 13, 6]"
            ]
          },
          "metadata": {
            "tags": []
          },
          "execution_count": 48
        }
      ]
    },
    {
      "cell_type": "code",
      "metadata": {
        "id": "6YV_T5-4x02i",
        "outputId": "20c4db28-593c-474f-abc2-3df4d28b187d",
        "colab": {
          "base_uri": "https://localhost:8080/",
          "height": 35
        }
      },
      "source": [
        "power_dict = [(\"hari\",100,7),(\"goku\",200,1),(\"deku\",100,5),(\"saitama\",150,10)]\n",
        "power_dict "
      ],
      "execution_count": 61,
      "outputs": [
        {
          "output_type": "execute_result",
          "data": {
            "text/plain": [
              "[('hari', 100, 7), ('goku', 200, 1), ('deku', 100, 5), ('saitama', 150, 10)]"
            ]
          },
          "metadata": {
            "tags": []
          },
          "execution_count": 61
        }
      ]
    },
    {
      "cell_type": "code",
      "metadata": {
        "id": "KaockFjdyIUU",
        "outputId": "9ae35fdf-f8fa-4f9a-a9e7-84101d1434e0",
        "colab": {
          "base_uri": "https://localhost:8080/",
          "height": 35
        }
      },
      "source": [
        "power_dict.sort(key = lambda x:x[2],reverse = True)\n",
        "power_dict"
      ],
      "execution_count": 63,
      "outputs": [
        {
          "output_type": "execute_result",
          "data": {
            "text/plain": [
              "[('saitama', 150, 10), ('hari', 100, 7), ('deku', 100, 5), ('goku', 200, 1)]"
            ]
          },
          "metadata": {
            "tags": []
          },
          "execution_count": 63
        }
      ]
    },
    {
      "cell_type": "markdown",
      "metadata": {
        "id": "3ig7CMKHzE_L"
      },
      "source": [
        "From above sorting code statements , we can conclude that sort has 2 arguments - key and reverse. Reverse is like sort in descending order, if **reverse=True**. Key is used like to sort on what basis of element in the list."
      ]
    },
    {
      "cell_type": "markdown",
      "metadata": {
        "id": "mSt-v6QO1kO4"
      },
      "source": [
        "## Count specific items"
      ]
    },
    {
      "cell_type": "code",
      "metadata": {
        "id": "8a4Y8XpU1w2v",
        "outputId": "e9a38a8d-2937-42e7-fd6a-474bfa441221",
        "colab": {
          "base_uri": "https://localhost:8080/",
          "height": 35
        }
      },
      "source": [
        "lst = [2,2,2,4,4,4,4,5,5,-1,-1,-1,-1,-1,-1]\n",
        "lst"
      ],
      "execution_count": 65,
      "outputs": [
        {
          "output_type": "execute_result",
          "data": {
            "text/plain": [
              "[2, 2, 2, 4, 4, 4, 4, 5, 5, -1, -1, -1, -1, -1, -1]"
            ]
          },
          "metadata": {
            "tags": []
          },
          "execution_count": 65
        }
      ]
    },
    {
      "cell_type": "code",
      "metadata": {
        "id": "QwC9Mshm2CsA",
        "outputId": "deb1dbaa-09f6-4ca7-f63a-5d3521eaf760",
        "colab": {
          "base_uri": "https://localhost:8080/",
          "height": 35
        }
      },
      "source": [
        "lst.count(-1) #Returns count of an integer which is passed as an argument to list."
      ],
      "execution_count": 69,
      "outputs": [
        {
          "output_type": "execute_result",
          "data": {
            "text/plain": [
              "6"
            ]
          },
          "metadata": {
            "tags": []
          },
          "execution_count": 69
        }
      ]
    },
    {
      "cell_type": "code",
      "metadata": {
        "id": "OuiUq7Kn2Swg",
        "outputId": "febd1c32-aea1-4b85-d2bd-6fd2055f5c4c",
        "colab": {
          "base_uri": "https://localhost:8080/",
          "height": 35
        }
      },
      "source": [
        "from collections import Counter\n",
        "Counter(lst)"
      ],
      "execution_count": 72,
      "outputs": [
        {
          "output_type": "execute_result",
          "data": {
            "text/plain": [
              "Counter({-1: 6, 2: 3, 4: 4, 5: 2})"
            ]
          },
          "metadata": {
            "tags": []
          },
          "execution_count": 72
        }
      ]
    },
    {
      "cell_type": "code",
      "metadata": {
        "id": "vfVZMa5a2nuR"
      },
      "source": [
        "counts = dict(Counter(lst))"
      ],
      "execution_count": 79,
      "outputs": []
    },
    {
      "cell_type": "markdown",
      "metadata": {
        "id": "y8xQ6yWG249i"
      },
      "source": [
        "Let's say I need a list of elements in descending order on basis of frequency of number .i.e, i need above **dict as list of tuples such as\n",
        "[(-1,6),(4,4),(2,3),(5,2)]** "
      ]
    },
    {
      "cell_type": "code",
      "metadata": {
        "id": "tryLDoZo3jv3",
        "outputId": "2b87cefe-5bf3-46ce-d88e-e4f2fee31e08",
        "colab": {
          "base_uri": "https://localhost:8080/",
          "height": 35
        }
      },
      "source": [
        "#first convert counts dictionary to list(https://www.geeksforgeeks.org/python-convert-dictionary-to-list-of-tuples/)\n",
        "counts = list(counts.items())\n",
        "counts"
      ],
      "execution_count": 75,
      "outputs": [
        {
          "output_type": "execute_result",
          "data": {
            "text/plain": [
              "[(2, 3), (4, 4), (5, 2), (-1, 6)]"
            ]
          },
          "metadata": {
            "tags": []
          },
          "execution_count": 75
        }
      ]
    },
    {
      "cell_type": "code",
      "metadata": {
        "id": "81qzGrX631rn",
        "outputId": "cbdc8834-60f0-4bc2-f88c-f1a024ec9771",
        "colab": {
          "base_uri": "https://localhost:8080/",
          "height": 35
        }
      },
      "source": [
        "counts.sort(key = lambda x:x[1],reverse=True)\n",
        "counts"
      ],
      "execution_count": 76,
      "outputs": [
        {
          "output_type": "execute_result",
          "data": {
            "text/plain": [
              "[(-1, 6), (4, 4), (2, 3), (5, 2)]"
            ]
          },
          "metadata": {
            "tags": []
          },
          "execution_count": 76
        }
      ]
    },
    {
      "cell_type": "markdown",
      "metadata": {
        "id": "bKysEdh46V8w"
      },
      "source": [
        "## Concatenate Lists"
      ]
    },
    {
      "cell_type": "code",
      "metadata": {
        "id": "xZlxu1tE6cjV",
        "outputId": "29889be6-7676-450d-f1e9-eec55c9014c1",
        "colab": {
          "base_uri": "https://localhost:8080/",
          "height": 53
        }
      },
      "source": [
        "numbers0 = [1, 2, 3]\n",
        "numbers1 = [4, 5, 6]\n",
        "print(numbers0 * 2)\n",
        "numbers2 = numbers0 + numbers1\n",
        "numbers2"
      ],
      "execution_count": 86,
      "outputs": [
        {
          "output_type": "stream",
          "text": [
            "[1, 2, 3, 1, 2, 3]\n"
          ],
          "name": "stdout"
        },
        {
          "output_type": "execute_result",
          "data": {
            "text/plain": [
              "[1, 2, 3, 4, 5, 6]"
            ]
          },
          "metadata": {
            "tags": []
          },
          "execution_count": 86
        }
      ]
    },
    {
      "cell_type": "markdown",
      "metadata": {
        "id": "iTjGiDlcYrAA"
      },
      "source": [
        "## SETS\n",
        "\n",
        "A Set is an unordered collection data type that is iterable, mutable, and has no duplicate elements. Python's set class represents the mathematical notion of a set.This is based on a data structure known as a hash table"
      ]
    },
    {
      "cell_type": "code",
      "metadata": {
        "id": "v2JinUtQYrAB",
        "outputId": "f90ec899-a844-4bc4-dadd-33f4af04d711"
      },
      "source": [
        "## Defining an empy set\n",
        "\n",
        "set_var= set()\n",
        "print(set_var)\n",
        "print(type(set_var))"
      ],
      "execution_count": null,
      "outputs": [
        {
          "output_type": "stream",
          "text": [
            "set()\n",
            "<class 'set'>\n"
          ],
          "name": "stdout"
        }
      ]
    },
    {
      "cell_type": "code",
      "metadata": {
        "id": "9ElDlJr1YrAD"
      },
      "source": [
        "set_var={1,2,3,4,3}"
      ],
      "execution_count": null,
      "outputs": []
    },
    {
      "cell_type": "code",
      "metadata": {
        "id": "Fgv2LSLRYrAF",
        "outputId": "827a1362-c11e-482c-9154-6a0302da1662"
      },
      "source": [
        "set_var"
      ],
      "execution_count": null,
      "outputs": [
        {
          "output_type": "execute_result",
          "data": {
            "text/plain": [
              "{1, 2, 3, 4}"
            ]
          },
          "metadata": {
            "tags": []
          },
          "execution_count": 50
        }
      ]
    },
    {
      "cell_type": "code",
      "metadata": {
        "id": "8oif41_lYrAH",
        "outputId": "ef9fb129-a52d-4afc-e065-4f8c8e5690c1"
      },
      "source": [
        "set_var={\"Avengers\",\"IronMan\",'Hitman'}\n",
        "print(set_var)\n",
        "type(set_var)"
      ],
      "execution_count": null,
      "outputs": [
        {
          "output_type": "stream",
          "text": [
            "{'IronMan', 'Hitman', 'Avengers'}\n"
          ],
          "name": "stdout"
        },
        {
          "output_type": "execute_result",
          "data": {
            "text/plain": [
              "set"
            ]
          },
          "metadata": {
            "tags": []
          },
          "execution_count": 55
        }
      ]
    },
    {
      "cell_type": "code",
      "metadata": {
        "id": "y0kVmO7XYrAK"
      },
      "source": [
        ""
      ],
      "execution_count": null,
      "outputs": []
    },
    {
      "cell_type": "code",
      "metadata": {
        "id": "W0KLZuqQYrAO"
      },
      "source": [
        "## Inbuilt function in sets\n",
        "\n",
        "set_var.add(\"Hulk\")\n"
      ],
      "execution_count": null,
      "outputs": []
    },
    {
      "cell_type": "code",
      "metadata": {
        "id": "Gre7oqHNYrAQ"
      },
      "source": [
        "."
      ],
      "execution_count": null,
      "outputs": []
    },
    {
      "cell_type": "code",
      "metadata": {
        "id": "XjcWHDKpYrAR",
        "outputId": "1c157124-9486-4e60-cfb2-0cdfd4dd2fa4"
      },
      "source": [
        "print(set_var)"
      ],
      "execution_count": null,
      "outputs": [
        {
          "output_type": "stream",
          "text": [
            "{'IronMan', 'Hitman', 'Avengers', 'Hulk'}\n"
          ],
          "name": "stdout"
        }
      ]
    },
    {
      "cell_type": "code",
      "metadata": {
        "id": "wWdTzCfBYrAU"
      },
      "source": [
        "set1={\"Avengers\",\"IronMan\",'Hitman'}\n",
        "set2={\"Avengers\",\"IronMan\",'Hitman','Hulk2'}"
      ],
      "execution_count": 87,
      "outputs": []
    },
    {
      "cell_type": "code",
      "metadata": {
        "id": "CC2mupkzYrAV"
      },
      "source": [
        "set2.intersection_update(set1)"
      ],
      "execution_count": 88,
      "outputs": []
    },
    {
      "cell_type": "code",
      "metadata": {
        "id": "OYzLZGzlYrAX",
        "outputId": "9c6af357-ff9e-479c-f1ab-002d54183129",
        "colab": {
          "base_uri": "https://localhost:8080/",
          "height": 35
        }
      },
      "source": [
        "set2"
      ],
      "execution_count": 89,
      "outputs": [
        {
          "output_type": "execute_result",
          "data": {
            "text/plain": [
              "{'Avengers', 'Hitman', 'IronMan'}"
            ]
          },
          "metadata": {
            "tags": []
          },
          "execution_count": 89
        }
      ]
    },
    {
      "cell_type": "code",
      "metadata": {
        "id": "H_WtTSiJYrAZ",
        "outputId": "5a939b82-242e-4222-b65e-cb1de899ecdd",
        "colab": {
          "base_uri": "https://localhost:8080/",
          "height": 35
        }
      },
      "source": [
        "##Difference \n",
        "set2.difference(set1)"
      ],
      "execution_count": 90,
      "outputs": [
        {
          "output_type": "execute_result",
          "data": {
            "text/plain": [
              "set()"
            ]
          },
          "metadata": {
            "tags": []
          },
          "execution_count": 90
        }
      ]
    },
    {
      "cell_type": "code",
      "metadata": {
        "id": "XmtKeETtYrAc",
        "outputId": "e6e0271b-3860-4e99-e9b2-c377e3152b15"
      },
      "source": [
        "set2"
      ],
      "execution_count": null,
      "outputs": [
        {
          "output_type": "execute_result",
          "data": {
            "text/plain": [
              "{'Avengers', 'Hitman', 'Hulk2', 'IronMan'}"
            ]
          },
          "metadata": {
            "tags": []
          },
          "execution_count": 60
        }
      ]
    },
    {
      "cell_type": "code",
      "metadata": {
        "id": "YjNKFSe7YrAe"
      },
      "source": [
        "## Difference update\n",
        "set2.difference_update(set1)"
      ],
      "execution_count": null,
      "outputs": []
    },
    {
      "cell_type": "code",
      "metadata": {
        "id": "D86MGVFcYrAo",
        "outputId": "8140aaba-a118-4118-bd30-ad6f97aed48b"
      },
      "source": [
        "print(set2)"
      ],
      "execution_count": null,
      "outputs": [
        {
          "output_type": "stream",
          "text": [
            "{'Hulk2'}\n"
          ],
          "name": "stdout"
        }
      ]
    },
    {
      "cell_type": "markdown",
      "metadata": {
        "id": "uE_NSXe1BxxL"
      },
      "source": [
        "### Insert element in Sets"
      ]
    },
    {
      "cell_type": "code",
      "metadata": {
        "id": "RXDnL-0pB8qi",
        "outputId": "351e0dd7-5826-4faa-91a2-581e87af12b6",
        "colab": {
          "base_uri": "https://localhost:8080/",
          "height": 53
        }
      },
      "source": [
        "anime = {\"kimi no na wa\",\"weathering with you\",\"a silent voice\"}\n",
        "print(anime)\n",
        "anime.add(\"clannad\")\n",
        "print(anime)"
      ],
      "execution_count": 112,
      "outputs": [
        {
          "output_type": "stream",
          "text": [
            "{'a silent voice', 'weathering with you', 'kimi no na wa'}\n",
            "{'a silent voice', 'clannad', 'weathering with you', 'kimi no na wa'}\n"
          ],
          "name": "stdout"
        }
      ]
    },
    {
      "cell_type": "markdown",
      "metadata": {
        "id": "g-DFM1JdCebh"
      },
      "source": [
        "Insert a element at particular index in sets is not possible because sets are **unordered containers**, meaning elements have not a particular position inside a set."
      ]
    },
    {
      "cell_type": "markdown",
      "metadata": {
        "id": "0PzGuCPvC4J6"
      },
      "source": [
        "### Delete element in Sets"
      ]
    },
    {
      "cell_type": "markdown",
      "metadata": {
        "id": "kxbRwRUfDGNQ"
      },
      "source": [
        "3 Ways to remove an element in sets:\n",
        "\n",
        "*   Using the set.remove(x) method\n",
        "*   Using the set.discard(x) method\n",
        "*   Using the set.pop() method"
      ]
    },
    {
      "cell_type": "code",
      "metadata": {
        "id": "aVelcGuDDdGI"
      },
      "source": [
        "anime = {\"kimi no na wa\",\"weathering with you\",\"a silent voice\",\"clannad\"}"
      ],
      "execution_count": 113,
      "outputs": []
    },
    {
      "cell_type": "code",
      "metadata": {
        "id": "ysWFkgMWDBao",
        "outputId": "250f79b8-558c-4bfc-d787-5592a7b06984",
        "colab": {
          "base_uri": "https://localhost:8080/",
          "height": 35
        }
      },
      "source": [
        "#set.remove(x)\n",
        "anime.remove(\"a silent voice\")\n",
        "anime"
      ],
      "execution_count": 114,
      "outputs": [
        {
          "output_type": "execute_result",
          "data": {
            "text/plain": [
              "{'clannad', 'kimi no na wa', 'weathering with you'}"
            ]
          },
          "metadata": {
            "tags": []
          },
          "execution_count": 114
        }
      ]
    },
    {
      "cell_type": "code",
      "metadata": {
        "id": "GJuymXs0CrxJ",
        "outputId": "d612d324-6eeb-4668-b416-7f069ad94234",
        "colab": {
          "base_uri": "https://localhost:8080/",
          "height": 298
        }
      },
      "source": [
        "#set.discard(x)\n",
        "print(anime)\n",
        "print(\"Discard method\\n\")\n",
        "anime.discard(\"a silent voice\")\n",
        "print(\"Remove method\\n\")\n",
        "anime.remove(\"a silent voice\")"
      ],
      "execution_count": 115,
      "outputs": [
        {
          "output_type": "stream",
          "text": [
            "{'clannad', 'weathering with you', 'kimi no na wa'}\n",
            "Discard method\n",
            "\n",
            "Remove method\n",
            "\n"
          ],
          "name": "stdout"
        },
        {
          "output_type": "error",
          "ename": "KeyError",
          "evalue": "ignored",
          "traceback": [
            "\u001b[0;31m---------------------------------------------------------------------------\u001b[0m",
            "\u001b[0;31mKeyError\u001b[0m                                  Traceback (most recent call last)",
            "\u001b[0;32m<ipython-input-115-5c2898bf826d>\u001b[0m in \u001b[0;36m<module>\u001b[0;34m()\u001b[0m\n\u001b[1;32m      4\u001b[0m \u001b[0manime\u001b[0m\u001b[0;34m.\u001b[0m\u001b[0mdiscard\u001b[0m\u001b[0;34m(\u001b[0m\u001b[0;34m\"a silent voice\"\u001b[0m\u001b[0;34m)\u001b[0m\u001b[0;34m\u001b[0m\u001b[0;34m\u001b[0m\u001b[0m\n\u001b[1;32m      5\u001b[0m \u001b[0mprint\u001b[0m\u001b[0;34m(\u001b[0m\u001b[0;34m\"Remove method\\n\"\u001b[0m\u001b[0;34m)\u001b[0m\u001b[0;34m\u001b[0m\u001b[0;34m\u001b[0m\u001b[0m\n\u001b[0;32m----> 6\u001b[0;31m \u001b[0manime\u001b[0m\u001b[0;34m.\u001b[0m\u001b[0mremove\u001b[0m\u001b[0;34m(\u001b[0m\u001b[0;34m\"a silent voice\"\u001b[0m\u001b[0;34m)\u001b[0m\u001b[0;34m\u001b[0m\u001b[0;34m\u001b[0m\u001b[0m\n\u001b[0m",
            "\u001b[0;31mKeyError\u001b[0m: 'a silent voice'"
          ]
        }
      ]
    },
    {
      "cell_type": "markdown",
      "metadata": {
        "id": "wuHwiVf_EW-J"
      },
      "source": [
        "As you can see the difference between **set.discard(x)** and **set.remove(x)**, **remove** raises a **KeyError** while **discard** doesn't."
      ]
    },
    {
      "cell_type": "code",
      "metadata": {
        "id": "wpMfXAVMEyeS",
        "outputId": "dd3f357f-130d-4a32-ae50-07895a68e9af",
        "colab": {
          "base_uri": "https://localhost:8080/",
          "height": 53
        }
      },
      "source": [
        "#set.pop()\n",
        "print(anime)\n",
        "anime.pop()\n",
        "print(anime)"
      ],
      "execution_count": 116,
      "outputs": [
        {
          "output_type": "stream",
          "text": [
            "{'clannad', 'weathering with you', 'kimi no na wa'}\n",
            "{'weathering with you', 'kimi no na wa'}\n"
          ],
          "name": "stdout"
        }
      ]
    },
    {
      "cell_type": "markdown",
      "metadata": {
        "id": "YpgGsI8HFREA"
      },
      "source": [
        "Unlike **list.pop(index)**,**set.pop()** don't need index as sets are **unordered containers**"
      ]
    },
    {
      "cell_type": "markdown",
      "metadata": {
        "id": "4TBMW2J_GUL2"
      },
      "source": [
        "### Mathematical Operations : **Union, Intersection, Difference, and Symmetric difference** \n",
        "---\n"
      ]
    },
    {
      "cell_type": "markdown",
      "metadata": {
        "id": "AHLH_m9wH74e"
      },
      "source": [
        "For Union use **set.union()** or **|** operator"
      ]
    },
    {
      "cell_type": "code",
      "metadata": {
        "id": "ltfCRKk-Gm0u",
        "outputId": "af1ae33d-8011-42b6-baef-74de284cc173",
        "colab": {
          "base_uri": "https://localhost:8080/",
          "height": 144
        }
      },
      "source": [
        "#Union \n",
        "anime = {\"kimi no na wa\",\"weathering with you\",\"clannad\",\"dbs\"}\n",
        "makoto = {\"voices of a distant star\",\"weathering with you\",\"kimi no na wa\",\"garden of words\"}\n",
        "union_ = anime.union(makoto)\n",
        "print(union_)\n",
        "union1 = anime | makoto\n",
        "union1"
      ],
      "execution_count": 122,
      "outputs": [
        {
          "output_type": "stream",
          "text": [
            "{'voices of a distant star', 'garden of words', 'dbs', 'clannad', 'weathering with you', 'kimi no na wa'}\n"
          ],
          "name": "stdout"
        },
        {
          "output_type": "execute_result",
          "data": {
            "text/plain": [
              "{'clannad',\n",
              " 'dbs',\n",
              " 'garden of words',\n",
              " 'kimi no na wa',\n",
              " 'voices of a distant star',\n",
              " 'weathering with you'}"
            ]
          },
          "metadata": {
            "tags": []
          },
          "execution_count": 122
        }
      ]
    },
    {
      "cell_type": "markdown",
      "metadata": {
        "id": "-39LNO0iITHm"
      },
      "source": [
        "For Intersection use **set.intersection()** or **&** operator"
      ]
    },
    {
      "cell_type": "code",
      "metadata": {
        "id": "lyKVPqLAHlOw",
        "outputId": "61ec10a3-e1ff-4a20-a015-fcba6290cad1",
        "colab": {
          "base_uri": "https://localhost:8080/",
          "height": 53
        }
      },
      "source": [
        "#Intersection\n",
        "common = makoto.intersection(anime)\n",
        "print(common)\n",
        "intersection_ = makoto & anime\n",
        "intersection_"
      ],
      "execution_count": 124,
      "outputs": [
        {
          "output_type": "stream",
          "text": [
            "{'weathering with you', 'kimi no na wa'}\n"
          ],
          "name": "stdout"
        },
        {
          "output_type": "execute_result",
          "data": {
            "text/plain": [
              "{'kimi no na wa', 'weathering with you'}"
            ]
          },
          "metadata": {
            "tags": []
          },
          "execution_count": 124
        }
      ]
    },
    {
      "cell_type": "markdown",
      "metadata": {
        "id": "7fHiRQ6MIpFM"
      },
      "source": [
        "For difference, use **set.difference()** or **-** operator"
      ]
    },
    {
      "cell_type": "code",
      "metadata": {
        "id": "tvIhb-HWI0uE",
        "outputId": "310a4dce-23d6-4cba-9e42-e928b8911bd7",
        "colab": {
          "base_uri": "https://localhost:8080/",
          "height": 53
        }
      },
      "source": [
        "#Difference\n",
        "diff = makoto.difference(anime) #it returns the makoto set after removing the common elements in anime and makoto sets\n",
        "print(diff)\n",
        "diff_ = anime - makoto #it returns the anime set after removing the common elements in anime and makoto sets\n",
        "diff_"
      ],
      "execution_count": 129,
      "outputs": [
        {
          "output_type": "stream",
          "text": [
            "{'voices of a distant star', 'garden of words'}\n"
          ],
          "name": "stdout"
        },
        {
          "output_type": "execute_result",
          "data": {
            "text/plain": [
              "{'clannad', 'dbs'}"
            ]
          },
          "metadata": {
            "tags": []
          },
          "execution_count": 129
        }
      ]
    },
    {
      "cell_type": "markdown",
      "metadata": {
        "id": "AmI__p10J9Lc"
      },
      "source": [
        "For Symmetric Difference, **set.symmetric_difference()** or **^** operator"
      ]
    },
    {
      "cell_type": "code",
      "metadata": {
        "id": "I1f6g-rsKv71",
        "outputId": "d3b32b09-4b7f-41de-a6b9-ff3b111331bf",
        "colab": {
          "base_uri": "https://localhost:8080/",
          "height": 35
        }
      },
      "source": [
        "#symmetric_difference\n",
        "diff = anime.symmetric_difference(makoto)\n",
        "diff\n",
        "diff_ = makoto ^ anime\n",
        "diff_"
      ],
      "execution_count": 131,
      "outputs": [
        {
          "output_type": "execute_result",
          "data": {
            "text/plain": [
              "{'clannad', 'dbs', 'garden of words', 'voices of a distant star'}"
            ]
          },
          "metadata": {
            "tags": []
          },
          "execution_count": 131
        }
      ]
    },
    {
      "cell_type": "markdown",
      "metadata": {
        "id": "t5Wr7rxLLaHk"
      },
      "source": [
        "Difference in between **set.difference()** and **set.symmetric_difference()** is :\n",
        "\n",
        "The difference of two sets A and B is the set of all elements of set A that are not contained in set B and is denoted by A-B.\n",
        "\n",
        "The symmetric difference of two sets A and B is the set of elements that are in either of the sets A and B, but not in both, and is denoted by A △ B."
      ]
    },
    {
      "cell_type": "markdown",
      "metadata": {
        "id": "qN1m4R2JFtaI"
      },
      "source": [
        "For more facts on [sets](https://realpython.com/python-sets/)"
      ]
    },
    {
      "cell_type": "markdown",
      "metadata": {
        "id": "pmJvGweaYrAp"
      },
      "source": [
        "## Dictionaries\n",
        "\n",
        "A dictionary is a collection which is unordered, changeable and indexed. In Python dictionaries are written with curly brackets, and they have keys and values."
      ]
    },
    {
      "cell_type": "code",
      "metadata": {
        "id": "CaJZhRKzYrAq"
      },
      "source": [
        "dic={}"
      ],
      "execution_count": null,
      "outputs": []
    },
    {
      "cell_type": "code",
      "metadata": {
        "id": "O8gTkkSWYrAr",
        "outputId": "5517c712-7be2-436e-9e11-44465bd13f85"
      },
      "source": [
        "type(dic)"
      ],
      "execution_count": null,
      "outputs": [
        {
          "output_type": "execute_result",
          "data": {
            "text/plain": [
              "dict"
            ]
          },
          "metadata": {
            "tags": []
          },
          "execution_count": 60
        }
      ]
    },
    {
      "cell_type": "code",
      "metadata": {
        "id": "fsgZ6AUWYrAt",
        "outputId": "586db4a8-fc10-47e3-9918-6644398d3067"
      },
      "source": [
        "type(dict())"
      ],
      "execution_count": null,
      "outputs": [
        {
          "output_type": "execute_result",
          "data": {
            "text/plain": [
              "dict"
            ]
          },
          "metadata": {
            "tags": []
          },
          "execution_count": 70
        }
      ]
    },
    {
      "cell_type": "code",
      "metadata": {
        "id": "ebDmN2izYrAv"
      },
      "source": [
        "set_ex={1,2,3,4,5}"
      ],
      "execution_count": null,
      "outputs": []
    },
    {
      "cell_type": "code",
      "metadata": {
        "id": "ySyOe9K4YrAw",
        "outputId": "8cd775aa-e93c-4e38-f22d-504ffee4075f"
      },
      "source": [
        "type(set_ex)"
      ],
      "execution_count": null,
      "outputs": [
        {
          "output_type": "execute_result",
          "data": {
            "text/plain": [
              "set"
            ]
          },
          "metadata": {
            "tags": []
          },
          "execution_count": 69
        }
      ]
    },
    {
      "cell_type": "code",
      "metadata": {
        "id": "FfpAU9MfYrA2"
      },
      "source": [
        "## Let create a dictionary\n",
        "\n",
        "my_dict={\"Car1\": \"Audi\", \"Car2\":\"BMW\",\"Car3\":\"Mercidies Benz\"}"
      ],
      "execution_count": null,
      "outputs": []
    },
    {
      "cell_type": "code",
      "metadata": {
        "id": "UgKhwc6PYrA4",
        "outputId": "72a0f432-c443-4ab2-d1ef-0c9846a1775a"
      },
      "source": [
        "type(my_dict)"
      ],
      "execution_count": null,
      "outputs": [
        {
          "output_type": "execute_result",
          "data": {
            "text/plain": [
              "dict"
            ]
          },
          "metadata": {
            "tags": []
          },
          "execution_count": 64
        }
      ]
    },
    {
      "cell_type": "code",
      "metadata": {
        "id": "3nPfveQXYrA6",
        "outputId": "0064e926-437d-4001-df1f-acf594511f78"
      },
      "source": [
        "##Access the item values based on keys\n",
        "\n",
        "my_dict['Car1']"
      ],
      "execution_count": null,
      "outputs": [
        {
          "output_type": "execute_result",
          "data": {
            "text/plain": [
              "'Audi'"
            ]
          },
          "metadata": {
            "tags": []
          },
          "execution_count": 73
        }
      ]
    },
    {
      "cell_type": "code",
      "metadata": {
        "id": "9k6gMUIJYrA8",
        "outputId": "91545361-a32c-48af-a576-1e8fc466b63f"
      },
      "source": [
        "# We can even loop throught the dictionaries keys\n",
        "\n",
        "for x in my_dict:\n",
        "    print(x)"
      ],
      "execution_count": null,
      "outputs": [
        {
          "output_type": "stream",
          "text": [
            "Car1\n",
            "Car2\n",
            "Car3\n"
          ],
          "name": "stdout"
        }
      ]
    },
    {
      "cell_type": "code",
      "metadata": {
        "id": "u6UBbKMnYrA9",
        "outputId": "cfe79529-1189-463f-fe63-9f5ac271424f"
      },
      "source": [
        "# We can even loop throught the dictionaries values\n",
        "\n",
        "for x in my_dict.values():\n",
        "    print(x)"
      ],
      "execution_count": null,
      "outputs": [
        {
          "output_type": "stream",
          "text": [
            "Audi\n",
            "BMW\n",
            "Mercidies Benz\n"
          ],
          "name": "stdout"
        }
      ]
    },
    {
      "cell_type": "code",
      "metadata": {
        "id": "rD4v3T5kYrA_",
        "outputId": "b5211f13-1c7f-459d-807c-ec0ace600fd3"
      },
      "source": [
        "# We can also check both keys and values\n",
        "for x in my_dict.items():\n",
        "    print(x)"
      ],
      "execution_count": null,
      "outputs": [
        {
          "output_type": "stream",
          "text": [
            "('Car1', 'Audi')\n",
            "('Car2', 'BMW')\n",
            "('Car3', 'Mercidies Benz')\n"
          ],
          "name": "stdout"
        }
      ]
    },
    {
      "cell_type": "code",
      "metadata": {
        "id": "5J1aEkPgYrBA"
      },
      "source": [
        "## Adding items in Dictionaries\n",
        "\n",
        "my_dict['car4']='Audi 2.0'"
      ],
      "execution_count": null,
      "outputs": []
    },
    {
      "cell_type": "code",
      "metadata": {
        "id": "JIt1T_1uYrBC",
        "outputId": "07f8bd88-3b44-49f5-f64c-232b37ebaac3"
      },
      "source": [
        "my_dict"
      ],
      "execution_count": null,
      "outputs": [
        {
          "output_type": "execute_result",
          "data": {
            "text/plain": [
              "{'Car1': 'Audi', 'Car2': 'BMW', 'Car3': 'Mercidies Benz', 'car4': 'Audi 2.0'}"
            ]
          },
          "metadata": {
            "tags": []
          },
          "execution_count": 75
        }
      ]
    },
    {
      "cell_type": "code",
      "metadata": {
        "id": "uQ57kB_WYrBD"
      },
      "source": [
        "my_dict['Car1']='MAruti'"
      ],
      "execution_count": null,
      "outputs": []
    },
    {
      "cell_type": "code",
      "metadata": {
        "id": "nScKFQt-YrBG",
        "outputId": "60791d4c-3706-4f04-93a8-b5a93858c732"
      },
      "source": [
        "my_dict"
      ],
      "execution_count": null,
      "outputs": [
        {
          "output_type": "execute_result",
          "data": {
            "text/plain": [
              "{'Car1': 'MAruti', 'Car2': 'BMW', 'Car3': 'Mercidies Benz', 'car4': 'Audi 2.0'}"
            ]
          },
          "metadata": {
            "tags": []
          },
          "execution_count": 77
        }
      ]
    },
    {
      "cell_type": "markdown",
      "metadata": {
        "id": "5ueCjTOvYrBH"
      },
      "source": [
        "### Nested Dictionary"
      ]
    },
    {
      "cell_type": "code",
      "metadata": {
        "id": "QvaBW366YrBH"
      },
      "source": [
        "car1_model={'Mercedes':1960}\n",
        "car2_model={'Audi':1970}\n",
        "car3_model={'Ambassador':1980}\n",
        "\n",
        "car_type={'car1':car1_model,'car2':car2_model,'car3':car3_model}"
      ],
      "execution_count": null,
      "outputs": []
    },
    {
      "cell_type": "code",
      "metadata": {
        "id": "Io2QjNuXYrBJ",
        "outputId": "775eea21-abbd-49f2-8a14-953e5b68e95c"
      },
      "source": [
        "print(car_type)"
      ],
      "execution_count": null,
      "outputs": [
        {
          "output_type": "stream",
          "text": [
            "{'car1': {'Mercedes': 1960}, 'car2': {'Audi': 1970}, 'car3': {'Ambassador': 1980}}\n"
          ],
          "name": "stdout"
        }
      ]
    },
    {
      "cell_type": "code",
      "metadata": {
        "id": "oSZOKhxDYrBK",
        "outputId": "8516684a-a1b2-4842-b85e-c40d4253a865"
      },
      "source": [
        "## Accessing the items in the dictionary\n",
        "\n",
        "print(car_type['car1'])"
      ],
      "execution_count": null,
      "outputs": [
        {
          "output_type": "stream",
          "text": [
            "{'Mercedes': 1960}\n"
          ],
          "name": "stdout"
        }
      ]
    },
    {
      "cell_type": "code",
      "metadata": {
        "id": "NCfBl1FYYrBN",
        "outputId": "4ac03037-cdff-482f-86a3-467677a2883c"
      },
      "source": [
        "print(car_type['car1']['Mercedes'])"
      ],
      "execution_count": null,
      "outputs": [
        {
          "output_type": "stream",
          "text": [
            "1960\n"
          ],
          "name": "stdout"
        }
      ]
    },
    {
      "cell_type": "markdown",
      "metadata": {
        "id": "A-QJrhmoYrBQ"
      },
      "source": [
        "## Tuples"
      ]
    },
    {
      "cell_type": "code",
      "metadata": {
        "id": "-qOm3QjMYrBQ"
      },
      "source": [
        "## create an empty Tuples\n",
        "\n",
        "my_tuple=tuple()"
      ],
      "execution_count": null,
      "outputs": []
    },
    {
      "cell_type": "code",
      "metadata": {
        "id": "vMJlqBYjYrBT",
        "outputId": "095db3a6-ea93-4e69-9183-15b8e408bcd8"
      },
      "source": [
        "type(my_tuple)"
      ],
      "execution_count": null,
      "outputs": [
        {
          "output_type": "execute_result",
          "data": {
            "text/plain": [
              "tuple"
            ]
          },
          "metadata": {
            "tags": []
          },
          "execution_count": 102
        }
      ]
    },
    {
      "cell_type": "code",
      "metadata": {
        "id": "GzN0GacuYrBV"
      },
      "source": [
        "my_tuple=()"
      ],
      "execution_count": null,
      "outputs": []
    },
    {
      "cell_type": "code",
      "metadata": {
        "id": "9DQoczuFYrBW",
        "outputId": "92d3e347-43ce-4a40-929a-521fc86fdc26"
      },
      "source": [
        "type(my_tuple)"
      ],
      "execution_count": null,
      "outputs": [
        {
          "output_type": "execute_result",
          "data": {
            "text/plain": [
              "tuple"
            ]
          },
          "metadata": {
            "tags": []
          },
          "execution_count": 104
        }
      ]
    },
    {
      "cell_type": "code",
      "metadata": {
        "id": "V_FbxazPYrBY"
      },
      "source": [
        "my_tuple=(\"Krish\",\"Ankur\",\"John\")"
      ],
      "execution_count": null,
      "outputs": []
    },
    {
      "cell_type": "code",
      "metadata": {
        "id": "pkGjKVE3YrBZ"
      },
      "source": [
        "my_tuple=('Hello','World')"
      ],
      "execution_count": null,
      "outputs": []
    },
    {
      "cell_type": "code",
      "metadata": {
        "id": "lN92fgejYrBh",
        "outputId": "d3edce7f-f6ba-4a7f-8ad5-c3cc34b32e76"
      },
      "source": [
        "print(type(my_tuple))\n",
        "print(my_tuple)"
      ],
      "execution_count": null,
      "outputs": [
        {
          "output_type": "stream",
          "text": [
            "<class 'tuple'>\n",
            "('Hello', 'World')\n"
          ],
          "name": "stdout"
        }
      ]
    },
    {
      "cell_type": "code",
      "metadata": {
        "id": "_PArFxlKYrBi",
        "outputId": "8105e8fd-c128-4de8-a530-3d043b158b30"
      },
      "source": [
        "type(my_tuple)"
      ],
      "execution_count": null,
      "outputs": [
        {
          "output_type": "execute_result",
          "data": {
            "text/plain": [
              "tuple"
            ]
          },
          "metadata": {
            "tags": []
          },
          "execution_count": 107
        }
      ]
    },
    {
      "cell_type": "code",
      "metadata": {
        "id": "rSr_YYMgYrBk",
        "outputId": "24e971ff-58d1-4b17-cfec-55de007c1721"
      },
      "source": [
        "## Inbuilt function\n",
        "my_tuple.count('Krish')"
      ],
      "execution_count": null,
      "outputs": [
        {
          "output_type": "execute_result",
          "data": {
            "text/plain": [
              "1"
            ]
          },
          "metadata": {
            "tags": []
          },
          "execution_count": 110
        }
      ]
    },
    {
      "cell_type": "code",
      "metadata": {
        "id": "TC39ihR6YrBm",
        "outputId": "14669301-f022-4b64-9b9c-69f330833f79"
      },
      "source": [
        "my_tuple.index('Ankur')"
      ],
      "execution_count": null,
      "outputs": [
        {
          "output_type": "execute_result",
          "data": {
            "text/plain": [
              "1"
            ]
          },
          "metadata": {
            "tags": []
          },
          "execution_count": 117
        }
      ]
    },
    {
      "cell_type": "code",
      "metadata": {
        "id": "IncbAnrFYrBo"
      },
      "source": [
        ""
      ],
      "execution_count": null,
      "outputs": []
    }
  ]
}